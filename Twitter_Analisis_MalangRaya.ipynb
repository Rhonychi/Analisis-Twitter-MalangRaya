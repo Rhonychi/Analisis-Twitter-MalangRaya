{
  "nbformat": 4,
  "nbformat_minor": 0,
  "metadata": {
    "colab": {
      "name": "Twitter Analisis MalangRaya.ipynb",
      "provenance": [],
      "collapsed_sections": []
    },
    "kernelspec": {
      "name": "python3",
      "display_name": "Python 3"
    }
  },
  "cells": [
    {
      "cell_type": "code",
      "metadata": {
        "id": "hrZBDMMRvmfD"
      },
      "source": [
        "import tweepy\r\n",
        "from textblob import TextBlob\r\n",
        "from wordcloud import WordCloud\r\n",
        "import pandas as pd\r\n",
        "import numpy as np\r\n",
        "import re\r\n",
        "import matplotlib.pyplot as plt\r\n",
        "plt.style.use('fivethirtyeight')"
      ],
      "execution_count": 1,
      "outputs": []
    },
    {
      "cell_type": "code",
      "metadata": {
        "id": "XAo_bDFJvo69"
      },
      "source": [
        "Consumer_Key = \"CGxhnEQwmi5QJl69NiqmkhEdw\"\r\n",
        "Consumer_Secret_Key = \"WubfToWPZhwxEHlmRwaPUFS8cZpwHDsD1jNxdg8v1L4ejIefbW\"\r\n",
        "Access_Token = \"1334735354927071232-IqStzBg2yJSPripFOKvggD1cb0mOTE\"\r\n",
        "Access_Token_Secret = \"6fm8Fm2ZcUAxJq1yrMEkNdv95no6mkRoCS6Xk80ysPdFs\""
      ],
      "execution_count": 2,
      "outputs": []
    },
    {
      "cell_type": "code",
      "metadata": {
        "id": "pePwMuhnvrgx"
      },
      "source": [
        "auth = tweepy.OAuthHandler(Consumer_Key,Consumer_Secret_Key)\r\n",
        "auth.set_access_token(Access_Token,Access_Token_Secret)\r\n",
        "api = tweepy.API(auth)"
      ],
      "execution_count": 3,
      "outputs": []
    },
    {
      "cell_type": "code",
      "metadata": {
        "colab": {
          "base_uri": "https://localhost:8080/"
        },
        "id": "PoFrJ9-1vtWp",
        "outputId": "51500aeb-9aef-4441-da67-fbe5b1c3f39c"
      },
      "source": [
        "posts = api.user_timeline(screen_name=\"malangraya\", count = 5, lang =\"id\", tweet_mode=\"extended\")\r\n",
        "\r\n",
        "#  Print the last 5 tweets\r\n",
        "print(\"5 Tweets terakhir:\\n\")\r\n",
        "i=1\r\n",
        "for tweet in posts[:5]:\r\n",
        "    print(str(i) +') '+ tweet.full_text + '\\n')\r\n",
        "    i= i+1"
      ],
      "execution_count": 45,
      "outputs": [
        {
          "output_type": "stream",
          "text": [
            "5 Tweets terakhir:\n",
            "\n",
            "1) Info #KursDollar hari ini 14135 #Rupiah per #Dollar, 17237 IDR/EUR #KursEuro \n",
            "17 Dec 2020 08:22:01 https://t.co/P5vcu6S1Jr #kursRupiah\n",
            "\n",
            "2) Info #KursDollar hari ini 14151 #Rupiah per #Dollar, 17277 IDR/EUR #KursEuro \n",
            "16 Dec 2020 16:22:01 https://t.co/P5vcu6S1Jr #kursRupiah\n",
            "\n",
            "3) Kental Nuansa Balap, Yamaha Rilis All New Aerox 155 Connected MotoGP Edition - https://t.co/DBxJ75Tykg harga, model, sepeda motor, varian, warna, Yamaha https://t.co/bLdan5GZeW\n",
            "\n",
            "4) Info #KursDollar hari ini 14163 #Rupiah per #Dollar, 17208 IDR/EUR #KursEuro \n",
            "16 Dec 2020 08:22:01 https://t.co/P5vcu6S1Jr #kursRupiah\n",
            "\n",
            "5) Info #KursDollar hari ini 14193 #Rupiah per #Dollar, 17235 IDR/EUR #KursEuro \n",
            "15 Dec 2020 16:22:01 https://t.co/P5vcu6S1Jr #kursRupiah\n",
            "\n"
          ],
          "name": "stdout"
        }
      ]
    },
    {
      "cell_type": "code",
      "metadata": {
        "colab": {
          "base_uri": "https://localhost:8080/",
          "height": 204
        },
        "id": "OMS-BQZzvwQA",
        "outputId": "a88562fe-301b-410b-99cf-9d05943cba05"
      },
      "source": [
        "df = pd.DataFrame([tweet.full_text for tweet in posts], columns=['Tweets'])\r\n",
        "# Show the first 5 rows of data\r\n",
        "df.head()"
      ],
      "execution_count": 35,
      "outputs": [
        {
          "output_type": "execute_result",
          "data": {
            "text/html": [
              "<div>\n",
              "<style scoped>\n",
              "    .dataframe tbody tr th:only-of-type {\n",
              "        vertical-align: middle;\n",
              "    }\n",
              "\n",
              "    .dataframe tbody tr th {\n",
              "        vertical-align: top;\n",
              "    }\n",
              "\n",
              "    .dataframe thead th {\n",
              "        text-align: right;\n",
              "    }\n",
              "</style>\n",
              "<table border=\"1\" class=\"dataframe\">\n",
              "  <thead>\n",
              "    <tr style=\"text-align: right;\">\n",
              "      <th></th>\n",
              "      <th>Tweets</th>\n",
              "    </tr>\n",
              "  </thead>\n",
              "  <tbody>\n",
              "    <tr>\n",
              "      <th>0</th>\n",
              "      <td>Info #KursDollar hari ini 14135 #Rupiah per #D...</td>\n",
              "    </tr>\n",
              "    <tr>\n",
              "      <th>1</th>\n",
              "      <td>Info #KursDollar hari ini 14151 #Rupiah per #D...</td>\n",
              "    </tr>\n",
              "    <tr>\n",
              "      <th>2</th>\n",
              "      <td>Kental Nuansa Balap, Yamaha Rilis All New Aero...</td>\n",
              "    </tr>\n",
              "    <tr>\n",
              "      <th>3</th>\n",
              "      <td>Info #KursDollar hari ini 14163 #Rupiah per #D...</td>\n",
              "    </tr>\n",
              "    <tr>\n",
              "      <th>4</th>\n",
              "      <td>Info #KursDollar hari ini 14193 #Rupiah per #D...</td>\n",
              "    </tr>\n",
              "  </tbody>\n",
              "</table>\n",
              "</div>"
            ],
            "text/plain": [
              "                                              Tweets\n",
              "0  Info #KursDollar hari ini 14135 #Rupiah per #D...\n",
              "1  Info #KursDollar hari ini 14151 #Rupiah per #D...\n",
              "2  Kental Nuansa Balap, Yamaha Rilis All New Aero...\n",
              "3  Info #KursDollar hari ini 14163 #Rupiah per #D...\n",
              "4  Info #KursDollar hari ini 14193 #Rupiah per #D..."
            ]
          },
          "metadata": {
            "tags": []
          },
          "execution_count": 35
        }
      ]
    },
    {
      "cell_type": "code",
      "metadata": {
        "colab": {
          "base_uri": "https://localhost:8080/",
          "height": 419
        },
        "id": "w4AW8uCiwLko",
        "outputId": "e10019d6-4d6b-4384-eb47-017bd4c4cad3"
      },
      "source": [
        "def cleanTxt(text):\r\n",
        " text = re.sub('@[A-Za-z0–9]+', '', text) #Removing @mentions\r\n",
        " text = re.sub('#', '', text) # Removing '#' hashtag\r\n",
        " text = re.sub('RT[\\s]+', '', text) # Removing RT\r\n",
        " text = re.sub('https?:\\/\\/\\S+', '', text) # Removing hyperlink\r\n",
        " \r\n",
        " return text\r\n",
        "\r\n",
        "\r\n",
        "# Clean the tweets\r\n",
        "df['Tweets'] = df['Tweets'].apply(cleanTxt)\r\n",
        "\r\n",
        "# Show the cleaned tweets\r\n",
        "df"
      ],
      "execution_count": 46,
      "outputs": [
        {
          "output_type": "execute_result",
          "data": {
            "text/html": [
              "<div>\n",
              "<style scoped>\n",
              "    .dataframe tbody tr th:only-of-type {\n",
              "        vertical-align: middle;\n",
              "    }\n",
              "\n",
              "    .dataframe tbody tr th {\n",
              "        vertical-align: top;\n",
              "    }\n",
              "\n",
              "    .dataframe thead th {\n",
              "        text-align: right;\n",
              "    }\n",
              "</style>\n",
              "<table border=\"1\" class=\"dataframe\">\n",
              "  <thead>\n",
              "    <tr style=\"text-align: right;\">\n",
              "      <th></th>\n",
              "      <th>Tweets</th>\n",
              "    </tr>\n",
              "  </thead>\n",
              "  <tbody>\n",
              "    <tr>\n",
              "      <th>0</th>\n",
              "      <td>Info KursDollar hari ini 14135 Rupiah per Doll...</td>\n",
              "    </tr>\n",
              "    <tr>\n",
              "      <th>1</th>\n",
              "      <td>Info KursDollar hari ini 14151 Rupiah per Doll...</td>\n",
              "    </tr>\n",
              "    <tr>\n",
              "      <th>2</th>\n",
              "      <td>Kental Nuansa Balap, Yamaha Rilis All New Aero...</td>\n",
              "    </tr>\n",
              "    <tr>\n",
              "      <th>3</th>\n",
              "      <td>Info KursDollar hari ini 14163 Rupiah per Doll...</td>\n",
              "    </tr>\n",
              "    <tr>\n",
              "      <th>4</th>\n",
              "      <td>Info KursDollar hari ini 14193 Rupiah per Doll...</td>\n",
              "    </tr>\n",
              "    <tr>\n",
              "      <th>...</th>\n",
              "      <td>...</td>\n",
              "    </tr>\n",
              "    <tr>\n",
              "      <th>95</th>\n",
              "      <td>Royal Enfield Meteor 350 Mengaspal dengan Sede...</td>\n",
              "    </tr>\n",
              "    <tr>\n",
              "      <th>96</th>\n",
              "      <td>_mlgkota:</td>\n",
              "    </tr>\n",
              "    <tr>\n",
              "      <th>97</th>\n",
              "      <td>Honda Indonesia Siap Luncurkan Motor Baru 10 N...</td>\n",
              "    </tr>\n",
              "    <tr>\n",
              "      <th>98</th>\n",
              "      <td>Info KursDollar hari ini 14251 Rupiah per Doll...</td>\n",
              "    </tr>\n",
              "    <tr>\n",
              "      <th>99</th>\n",
              "      <td>Ducati Multistrada 950 S Resmi Dirilis, Versi ...</td>\n",
              "    </tr>\n",
              "  </tbody>\n",
              "</table>\n",
              "<p>100 rows × 1 columns</p>\n",
              "</div>"
            ],
            "text/plain": [
              "                                               Tweets\n",
              "0   Info KursDollar hari ini 14135 Rupiah per Doll...\n",
              "1   Info KursDollar hari ini 14151 Rupiah per Doll...\n",
              "2   Kental Nuansa Balap, Yamaha Rilis All New Aero...\n",
              "3   Info KursDollar hari ini 14163 Rupiah per Doll...\n",
              "4   Info KursDollar hari ini 14193 Rupiah per Doll...\n",
              "..                                                ...\n",
              "95  Royal Enfield Meteor 350 Mengaspal dengan Sede...\n",
              "96                                         _mlgkota: \n",
              "97  Honda Indonesia Siap Luncurkan Motor Baru 10 N...\n",
              "98  Info KursDollar hari ini 14251 Rupiah per Doll...\n",
              "99  Ducati Multistrada 950 S Resmi Dirilis, Versi ...\n",
              "\n",
              "[100 rows x 1 columns]"
            ]
          },
          "metadata": {
            "tags": []
          },
          "execution_count": 46
        }
      ]
    },
    {
      "cell_type": "code",
      "metadata": {
        "colab": {
          "base_uri": "https://localhost:8080/",
          "height": 419
        },
        "id": "WnT7NDnZ0ucY",
        "outputId": "87bee8ae-920b-477a-a753-28e6789206c1"
      },
      "source": [
        "# Create a function to get the subjectivity\r\n",
        "def getSubjectivity(text):\r\n",
        "   return TextBlob(text).sentiment.subjectivity\r\n",
        "\r\n",
        "# Create a function to get the polarity\r\n",
        "def getPolarity(text):\r\n",
        "   return  TextBlob(text).sentiment.polarity\r\n",
        "\r\n",
        "\r\n",
        "# Create two new columns 'Subjectivity' & 'Polarity'\r\n",
        "df['Subjectivity'] = df['Tweets'].apply(getSubjectivity)\r\n",
        "df['Polarity'] = df['Tweets'].apply(getPolarity)\r\n",
        "\r\n",
        "\r\n",
        "# Show the new dataframe with columns 'Subjectivity' & 'Polarity'\r\n",
        "df"
      ],
      "execution_count": 47,
      "outputs": [
        {
          "output_type": "execute_result",
          "data": {
            "text/html": [
              "<div>\n",
              "<style scoped>\n",
              "    .dataframe tbody tr th:only-of-type {\n",
              "        vertical-align: middle;\n",
              "    }\n",
              "\n",
              "    .dataframe tbody tr th {\n",
              "        vertical-align: top;\n",
              "    }\n",
              "\n",
              "    .dataframe thead th {\n",
              "        text-align: right;\n",
              "    }\n",
              "</style>\n",
              "<table border=\"1\" class=\"dataframe\">\n",
              "  <thead>\n",
              "    <tr style=\"text-align: right;\">\n",
              "      <th></th>\n",
              "      <th>Tweets</th>\n",
              "      <th>Subjectivity</th>\n",
              "      <th>Polarity</th>\n",
              "    </tr>\n",
              "  </thead>\n",
              "  <tbody>\n",
              "    <tr>\n",
              "      <th>0</th>\n",
              "      <td>Info KursDollar hari ini 14135 Rupiah per Doll...</td>\n",
              "      <td>0.000000</td>\n",
              "      <td>0.000000</td>\n",
              "    </tr>\n",
              "    <tr>\n",
              "      <th>1</th>\n",
              "      <td>Info KursDollar hari ini 14151 Rupiah per Doll...</td>\n",
              "      <td>0.000000</td>\n",
              "      <td>0.000000</td>\n",
              "    </tr>\n",
              "    <tr>\n",
              "      <th>2</th>\n",
              "      <td>Kental Nuansa Balap, Yamaha Rilis All New Aero...</td>\n",
              "      <td>0.454545</td>\n",
              "      <td>0.136364</td>\n",
              "    </tr>\n",
              "    <tr>\n",
              "      <th>3</th>\n",
              "      <td>Info KursDollar hari ini 14163 Rupiah per Doll...</td>\n",
              "      <td>0.000000</td>\n",
              "      <td>0.000000</td>\n",
              "    </tr>\n",
              "    <tr>\n",
              "      <th>4</th>\n",
              "      <td>Info KursDollar hari ini 14193 Rupiah per Doll...</td>\n",
              "      <td>0.000000</td>\n",
              "      <td>0.000000</td>\n",
              "    </tr>\n",
              "    <tr>\n",
              "      <th>...</th>\n",
              "      <td>...</td>\n",
              "      <td>...</td>\n",
              "      <td>...</td>\n",
              "    </tr>\n",
              "    <tr>\n",
              "      <th>95</th>\n",
              "      <td>Royal Enfield Meteor 350 Mengaspal dengan Sede...</td>\n",
              "      <td>0.300000</td>\n",
              "      <td>0.200000</td>\n",
              "    </tr>\n",
              "    <tr>\n",
              "      <th>96</th>\n",
              "      <td>_mlgkota:</td>\n",
              "      <td>0.000000</td>\n",
              "      <td>0.000000</td>\n",
              "    </tr>\n",
              "    <tr>\n",
              "      <th>97</th>\n",
              "      <td>Honda Indonesia Siap Luncurkan Motor Baru 10 N...</td>\n",
              "      <td>0.000000</td>\n",
              "      <td>0.000000</td>\n",
              "    </tr>\n",
              "    <tr>\n",
              "      <th>98</th>\n",
              "      <td>Info KursDollar hari ini 14251 Rupiah per Doll...</td>\n",
              "      <td>0.000000</td>\n",
              "      <td>0.000000</td>\n",
              "    </tr>\n",
              "    <tr>\n",
              "      <th>99</th>\n",
              "      <td>Ducati Multistrada 950 S Resmi Dirilis, Versi ...</td>\n",
              "      <td>0.000000</td>\n",
              "      <td>0.000000</td>\n",
              "    </tr>\n",
              "  </tbody>\n",
              "</table>\n",
              "<p>100 rows × 3 columns</p>\n",
              "</div>"
            ],
            "text/plain": [
              "                                               Tweets  Subjectivity  Polarity\n",
              "0   Info KursDollar hari ini 14135 Rupiah per Doll...      0.000000  0.000000\n",
              "1   Info KursDollar hari ini 14151 Rupiah per Doll...      0.000000  0.000000\n",
              "2   Kental Nuansa Balap, Yamaha Rilis All New Aero...      0.454545  0.136364\n",
              "3   Info KursDollar hari ini 14163 Rupiah per Doll...      0.000000  0.000000\n",
              "4   Info KursDollar hari ini 14193 Rupiah per Doll...      0.000000  0.000000\n",
              "..                                                ...           ...       ...\n",
              "95  Royal Enfield Meteor 350 Mengaspal dengan Sede...      0.300000  0.200000\n",
              "96                                         _mlgkota:       0.000000  0.000000\n",
              "97  Honda Indonesia Siap Luncurkan Motor Baru 10 N...      0.000000  0.000000\n",
              "98  Info KursDollar hari ini 14251 Rupiah per Doll...      0.000000  0.000000\n",
              "99  Ducati Multistrada 950 S Resmi Dirilis, Versi ...      0.000000  0.000000\n",
              "\n",
              "[100 rows x 3 columns]"
            ]
          },
          "metadata": {
            "tags": []
          },
          "execution_count": 47
        }
      ]
    },
    {
      "cell_type": "code",
      "metadata": {
        "colab": {
          "base_uri": "https://localhost:8080/",
          "height": 248
        },
        "id": "EY249xBP05-w",
        "outputId": "62ed8f63-8dec-46ad-89d4-e4406309b5c4"
      },
      "source": [
        "# word cloud visualization\r\n",
        "allWords = ' '.join([twts for twts in df['Tweets']])\r\n",
        "wordCloud = WordCloud(width=500, height=300, random_state=21, max_font_size=110).generate(allWords)\r\n",
        "\r\n",
        "\r\n",
        "plt.imshow(wordCloud, interpolation=\"bilinear\")\r\n",
        "plt.axis('off')\r\n",
        "plt.show()"
      ],
      "execution_count": 48,
      "outputs": [
        {
          "output_type": "display_data",
          "data": {
            "image/png": "[encoded data removed]",
            "text/plain": [
              "<Figure size 432x288 with 1 Axes>"
            ]
          },
          "metadata": {
            "tags": [],
            "needs_background": "light"
          }
        }
      ]
    },
    {
      "cell_type": "code",
      "metadata": {
        "colab": {
          "base_uri": "https://localhost:8080/",
          "height": 419
        },
        "id": "btnQb8yI3KF9",
        "outputId": "329fb1f0-7cd0-48f8-afcc-6557763f7d79"
      },
      "source": [
        "# Create a function to compute negative (-1), neutral (0) and positive (+1) analysis\r\n",
        "def getAnalysis(score):\r\n",
        "\r\n",
        "    \r\n",
        " if score < 0:\r\n",
        "  return 'Negative'\r\n",
        " elif score == 0:\r\n",
        "  return 'Neutral'\r\n",
        " else:\r\n",
        "  return 'Positive'\r\n",
        "df['Analysis'] = df['Polarity'].apply(getAnalysis)\r\n",
        "# Show the dataframe\r\n",
        "df"
      ],
      "execution_count": 49,
      "outputs": [
        {
          "output_type": "execute_result",
          "data": {
            "text/html": [
              "<div>\n",
              "<style scoped>\n",
              "    .dataframe tbody tr th:only-of-type {\n",
              "        vertical-align: middle;\n",
              "    }\n",
              "\n",
              "    .dataframe tbody tr th {\n",
              "        vertical-align: top;\n",
              "    }\n",
              "\n",
              "    .dataframe thead th {\n",
              "        text-align: right;\n",
              "    }\n",
              "</style>\n",
              "<table border=\"1\" class=\"dataframe\">\n",
              "  <thead>\n",
              "    <tr style=\"text-align: right;\">\n",
              "      <th></th>\n",
              "      <th>Tweets</th>\n",
              "      <th>Subjectivity</th>\n",
              "      <th>Polarity</th>\n",
              "      <th>Analysis</th>\n",
              "    </tr>\n",
              "  </thead>\n",
              "  <tbody>\n",
              "    <tr>\n",
              "      <th>0</th>\n",
              "      <td>Info KursDollar hari ini 14135 Rupiah per Doll...</td>\n",
              "      <td>0.000000</td>\n",
              "      <td>0.000000</td>\n",
              "      <td>Neutral</td>\n",
              "    </tr>\n",
              "    <tr>\n",
              "      <th>1</th>\n",
              "      <td>Info KursDollar hari ini 14151 Rupiah per Doll...</td>\n",
              "      <td>0.000000</td>\n",
              "      <td>0.000000</td>\n",
              "      <td>Neutral</td>\n",
              "    </tr>\n",
              "    <tr>\n",
              "      <th>2</th>\n",
              "      <td>Kental Nuansa Balap, Yamaha Rilis All New Aero...</td>\n",
              "      <td>0.454545</td>\n",
              "      <td>0.136364</td>\n",
              "      <td>Positive</td>\n",
              "    </tr>\n",
              "    <tr>\n",
              "      <th>3</th>\n",
              "      <td>Info KursDollar hari ini 14163 Rupiah per Doll...</td>\n",
              "      <td>0.000000</td>\n",
              "      <td>0.000000</td>\n",
              "      <td>Neutral</td>\n",
              "    </tr>\n",
              "    <tr>\n",
              "      <th>4</th>\n",
              "      <td>Info KursDollar hari ini 14193 Rupiah per Doll...</td>\n",
              "      <td>0.000000</td>\n",
              "      <td>0.000000</td>\n",
              "      <td>Neutral</td>\n",
              "    </tr>\n",
              "    <tr>\n",
              "      <th>...</th>\n",
              "      <td>...</td>\n",
              "      <td>...</td>\n",
              "      <td>...</td>\n",
              "      <td>...</td>\n",
              "    </tr>\n",
              "    <tr>\n",
              "      <th>95</th>\n",
              "      <td>Royal Enfield Meteor 350 Mengaspal dengan Sede...</td>\n",
              "      <td>0.300000</td>\n",
              "      <td>0.200000</td>\n",
              "      <td>Positive</td>\n",
              "    </tr>\n",
              "    <tr>\n",
              "      <th>96</th>\n",
              "      <td>_mlgkota:</td>\n",
              "      <td>0.000000</td>\n",
              "      <td>0.000000</td>\n",
              "      <td>Neutral</td>\n",
              "    </tr>\n",
              "    <tr>\n",
              "      <th>97</th>\n",
              "      <td>Honda Indonesia Siap Luncurkan Motor Baru 10 N...</td>\n",
              "      <td>0.000000</td>\n",
              "      <td>0.000000</td>\n",
              "      <td>Neutral</td>\n",
              "    </tr>\n",
              "    <tr>\n",
              "      <th>98</th>\n",
              "      <td>Info KursDollar hari ini 14251 Rupiah per Doll...</td>\n",
              "      <td>0.000000</td>\n",
              "      <td>0.000000</td>\n",
              "      <td>Neutral</td>\n",
              "    </tr>\n",
              "    <tr>\n",
              "      <th>99</th>\n",
              "      <td>Ducati Multistrada 950 S Resmi Dirilis, Versi ...</td>\n",
              "      <td>0.000000</td>\n",
              "      <td>0.000000</td>\n",
              "      <td>Neutral</td>\n",
              "    </tr>\n",
              "  </tbody>\n",
              "</table>\n",
              "<p>100 rows × 4 columns</p>\n",
              "</div>"
            ],
            "text/plain": [
              "                                               Tweets  ...  Analysis\n",
              "0   Info KursDollar hari ini 14135 Rupiah per Doll...  ...   Neutral\n",
              "1   Info KursDollar hari ini 14151 Rupiah per Doll...  ...   Neutral\n",
              "2   Kental Nuansa Balap, Yamaha Rilis All New Aero...  ...  Positive\n",
              "3   Info KursDollar hari ini 14163 Rupiah per Doll...  ...   Neutral\n",
              "4   Info KursDollar hari ini 14193 Rupiah per Doll...  ...   Neutral\n",
              "..                                                ...  ...       ...\n",
              "95  Royal Enfield Meteor 350 Mengaspal dengan Sede...  ...  Positive\n",
              "96                                         _mlgkota:   ...   Neutral\n",
              "97  Honda Indonesia Siap Luncurkan Motor Baru 10 N...  ...   Neutral\n",
              "98  Info KursDollar hari ini 14251 Rupiah per Doll...  ...   Neutral\n",
              "99  Ducati Multistrada 950 S Resmi Dirilis, Versi ...  ...   Neutral\n",
              "\n",
              "[100 rows x 4 columns]"
            ]
          },
          "metadata": {
            "tags": []
          },
          "execution_count": 49
        }
      ]
    },
    {
      "cell_type": "code",
      "metadata": {
        "colab": {
          "base_uri": "https://localhost:8080/"
        },
        "id": "CYzk7cGo3NDU",
        "outputId": "6417897b-c249-47f0-949e-668b1c5cf515"
      },
      "source": [
        "print('Printing negative tweets:\\n')\r\n",
        "j=1\r\n",
        "sortedDF = df.sort_values(by=['Polarity'],ascending=False) #Sort the tweets\r\n",
        "for i in range(0, sortedDF.shape[0] ):\r\n",
        "  if( sortedDF['Analysis'][i] == 'Negative'):\r\n",
        "    print(str(j) + ') '+sortedDF['Tweets'][i])\r\n",
        "    print()\r\n",
        "    j=j+1"
      ],
      "execution_count": 50,
      "outputs": [
        {
          "output_type": "stream",
          "text": [
            "Printing negative tweets:\n",
            "\n",
            "1) Yamaha Rilis Motor FZ 25 Marvel Edition Captain Marvel &amp; Black Panther -  ABS, edisi spesial, harga, lampu, limited edition, mesin, model, motor, sepeda motor, teknologi, versi, warna, Yamaha \n",
            "\n"
          ],
          "name": "stdout"
        }
      ]
    },
    {
      "cell_type": "code",
      "metadata": {
        "colab": {
          "base_uri": "https://localhost:8080/"
        },
        "id": "ckGCN13u3hHa",
        "outputId": "eca2d148-bce1-4bfc-ddba-1a4629396918"
      },
      "source": [
        "print('Printing Positive tweets:\\n')\r\n",
        "j=1\r\n",
        "sortedDF = df.sort_values(by=['Polarity'],ascending=True) #Sort the tweets\r\n",
        "for i in range(0, sortedDF.shape[0] ):\r\n",
        "  if( sortedDF['Analysis'][i] == 'Positive'):\r\n",
        "    print(str(j) + ') '+sortedDF['Tweets'][i])\r\n",
        "    print()\r\n",
        "    j=j+1"
      ],
      "execution_count": 21,
      "outputs": [
        {
          "output_type": "stream",
          "text": [
            "Printing Positive tweets:\n",
            "\n",
            "1) Kental Nuansa Balap, Yamaha Rilis All New Aerox 155 Connected MotoGP Edition -  harga, model, sepeda motor, varian, warna, Yamaha \n",
            "\n",
            "2) Yamaha Akhirnya Rilis All New Yamaha NMAX 155 Standard Versi Connected -  canggih, fitur, harga, motor, NMAX, sepeda motor, skuter matik, standar, terbaru, varian, versi, Yamaha \n",
            "\n",
            "3) Rayakan Ultah ke-75, MV Agusta Rilis Superveloce 75 Anniversario -  Agusta, brand, edisi spesial, fitur, harga, italia, limited edition, mesin, model, modern, motor, otomotif, premium, sepeda motor, spesifikasi, sport, warna \n",
            "\n",
            "4) Royal Enfield Meteor 350 Mengaspal dengan Sederet Fitur Canggih -  canggih, fitur, harga, klasik, mesin, model, modern, motor, otomotif, pasar, Royal Enfield, sepeda motor, terbaru, varian, versi \n",
            "\n"
          ],
          "name": "stdout"
        }
      ]
    },
    {
      "cell_type": "code",
      "metadata": {
        "colab": {
          "base_uri": "https://localhost:8080/",
          "height": 405
        },
        "id": "3zFJupNS3kVS",
        "outputId": "9ef70da5-6cb7-49bf-cf39-730c7e515b72"
      },
      "source": [
        "plt.figure(figsize=(8,6)) \r\n",
        "for i in range(0, df.shape[0]):\r\n",
        "  plt.scatter(df[\"Polarity\"][i], df[\"Subjectivity\"][i], color='Blue') \r\n",
        "# plt.scatter(x,y,color)   \r\n",
        "plt.title('Sentiment Analysis') \r\n",
        "plt.xlabel('Polarity') \r\n",
        "plt.ylabel('Subjectivity') \r\n",
        "plt.show()"
      ],
      "execution_count": 51,
      "outputs": [
        {
          "output_type": "display_data",
          "data": {
            "image/png": "[encoded data removed]",
            "text/plain": [
              "<Figure size 576x432 with 1 Axes>"
            ]
          },
          "metadata": {
            "tags": [],
            "needs_background": "light"
          }
        }
      ]
    },
    {
      "cell_type": "code",
      "metadata": {
        "colab": {
          "base_uri": "https://localhost:8080/",
          "height": 331
        },
        "id": "SIy_sKIB3oRL",
        "outputId": "0c47ad06-7718-4cec-909b-f09df209df89"
      },
      "source": [
        "plt.title('Sentiment Analysis')\r\n",
        "plt.xlabel('Sentiment')\r\n",
        "plt.ylabel('Counts')\r\n",
        "df['Analysis'].value_counts().plot(kind = 'bar')\r\n",
        "plt.show()"
      ],
      "execution_count": 52,
      "outputs": [
        {
          "output_type": "display_data",
          "data": {
            "image/png": "[encoded data removed]",
            "text/plain": [
              "<Figure size 432x288 with 1 Axes>"
            ]
          },
          "metadata": {
            "tags": [],
            "needs_background": "light"
          }
        }
      ]
    },
    {
      "cell_type": "code",
      "metadata": {
        "colab": {
          "base_uri": "https://localhost:8080/",
          "height": 296
        },
        "id": "rZgPYNpd3uPL",
        "outputId": "be18c037-5b16-44da-9a38-6d4220637697"
      },
      "source": [
        "plt.title('Sentiment Analysis')\r\n",
        "plt.xlabel('Sentiment')\r\n",
        "plt.ylabel('Counts')\r\n",
        "df['Analysis'].value_counts().plot(kind = 'line')\r\n",
        "plt.show()"
      ],
      "execution_count": 53,
      "outputs": [
        {
          "output_type": "display_data",
          "data": {
            "image/png": "[encoded data removed]",
            "text/plain": [
              "<Figure size 432x288 with 1 Axes>"
            ]
          },
          "metadata": {
            "tags": [],
            "needs_background": "light"
          }
        }
      ]
    }
  ]
}